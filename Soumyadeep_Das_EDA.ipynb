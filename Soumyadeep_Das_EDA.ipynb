{
 "cells": [
  {
   "cell_type": "markdown",
   "id": "e33ccdd4-ac88-4ccf-8587-d4ccb9211771",
   "metadata": {},
   "source": [
    "# Import necessary libraries"
   ]
  },
  {
   "cell_type": "code",
   "execution_count": 28,
   "id": "84d475e5-51f1-4e60-8d18-69893d24ad16",
   "metadata": {},
   "outputs": [],
   "source": [
    "import pandas as pd\n",
    "import numpy as np\n",
    "import matplotlib.pyplot as plt\n",
    "import seaborn as sns"
   ]
  },
  {
   "cell_type": "markdown",
   "id": "f58ab6f8-53a6-4f6f-9c21-e53b5d952dce",
   "metadata": {},
   "source": [
    "# Load the datasets"
   ]
  },
  {
   "cell_type": "code",
   "execution_count": 29,
   "id": "a9badf1b-a5a1-498a-a5ec-6df3fc46f57e",
   "metadata": {},
   "outputs": [
    {
     "name": "stdout",
     "output_type": "stream",
     "text": [
      "  CustomerID        CustomerName         Region SignupDate\n",
      "0      C0001    Lawrence Carroll  South America  7/10/2022\n",
      "1      C0002      Elizabeth Lutz           Asia  2/13/2022\n",
      "2      C0003      Michael Rivera  South America   3/7/2024\n",
      "3      C0004  Kathleen Rodriguez  South America  10/9/2022\n",
      "4      C0005         Laura Weber           Asia  8/15/2022\n",
      "  ProductID              ProductName     Category   Price\n",
      "0      P001     ActiveWear Biography        Books  169.30\n",
      "1      P002    ActiveWear Smartwatch  Electronics  346.30\n",
      "2      P003  ComfortLiving Biography        Books   44.12\n",
      "3      P004            BookWorld Rug   Home Decor   95.69\n",
      "4      P005          TechPro T-Shirt     Clothing  429.31\n",
      "  TransactionID CustomerID ProductID  TransactionDate  Quantity  TotalValue  \\\n",
      "0        T00001      C0199      P067  8/25/2024 12:38         1      300.68   \n",
      "1        T00112      C0146      P067  5/27/2024 22:23         1      300.68   \n",
      "2        T00166      C0127      P067   4/25/2024 7:38         1      300.68   \n",
      "3        T00272      C0087      P067  3/26/2024 22:55         2      601.36   \n",
      "4        T00363      C0070      P067  3/21/2024 15:10         3      902.04   \n",
      "\n",
      "    Price  \n",
      "0  300.68  \n",
      "1  300.68  \n",
      "2  300.68  \n",
      "3  300.68  \n",
      "4  300.68  \n"
     ]
    }
   ],
   "source": [
    "customers = pd.read_csv('Customers.csv')\n",
    "products = pd.read_csv('Products.csv')\n",
    "transactions = pd.read_csv('Transactions.csv')\n",
    "\n",
    "# Display the first few rows of each dataset\n",
    "print(customers.head())\n",
    "print(products.head())\n",
    "print(transactions.head())"
   ]
  },
  {
   "cell_type": "markdown",
   "id": "b1e8f3ba-01e3-4ec9-89be-22e407f1aa5d",
   "metadata": {},
   "source": [
    "# Check basic info and structure of datasets"
   ]
  },
  {
   "cell_type": "code",
   "execution_count": 30,
   "id": "7ddbf856-434a-4a97-b714-73052b7d287c",
   "metadata": {},
   "outputs": [
    {
     "name": "stdout",
     "output_type": "stream",
     "text": [
      "<class 'pandas.core.frame.DataFrame'>\n",
      "RangeIndex: 200 entries, 0 to 199\n",
      "Data columns (total 4 columns):\n",
      " #   Column        Non-Null Count  Dtype \n",
      "---  ------        --------------  ----- \n",
      " 0   CustomerID    200 non-null    object\n",
      " 1   CustomerName  200 non-null    object\n",
      " 2   Region        200 non-null    object\n",
      " 3   SignupDate    200 non-null    object\n",
      "dtypes: object(4)\n",
      "memory usage: 6.4+ KB\n",
      "None\n"
     ]
    }
   ],
   "source": [
    "print(customers.info())"
   ]
  },
  {
   "cell_type": "code",
   "execution_count": 31,
   "id": "35e97906-c44f-4115-967b-6e7a0d7e0292",
   "metadata": {},
   "outputs": [
    {
     "name": "stdout",
     "output_type": "stream",
     "text": [
      "<class 'pandas.core.frame.DataFrame'>\n",
      "RangeIndex: 100 entries, 0 to 99\n",
      "Data columns (total 4 columns):\n",
      " #   Column       Non-Null Count  Dtype  \n",
      "---  ------       --------------  -----  \n",
      " 0   ProductID    100 non-null    object \n",
      " 1   ProductName  100 non-null    object \n",
      " 2   Category     100 non-null    object \n",
      " 3   Price        100 non-null    float64\n",
      "dtypes: float64(1), object(3)\n",
      "memory usage: 3.3+ KB\n",
      "None\n"
     ]
    }
   ],
   "source": [
    "print(products.info())"
   ]
  },
  {
   "cell_type": "code",
   "execution_count": 32,
   "id": "bac2a75d-b4be-4022-879d-d7841b988a40",
   "metadata": {},
   "outputs": [
    {
     "name": "stdout",
     "output_type": "stream",
     "text": [
      "<class 'pandas.core.frame.DataFrame'>\n",
      "RangeIndex: 1000 entries, 0 to 999\n",
      "Data columns (total 7 columns):\n",
      " #   Column           Non-Null Count  Dtype  \n",
      "---  ------           --------------  -----  \n",
      " 0   TransactionID    1000 non-null   object \n",
      " 1   CustomerID       1000 non-null   object \n",
      " 2   ProductID        1000 non-null   object \n",
      " 3   TransactionDate  1000 non-null   object \n",
      " 4   Quantity         1000 non-null   int64  \n",
      " 5   TotalValue       1000 non-null   float64\n",
      " 6   Price            1000 non-null   float64\n",
      "dtypes: float64(2), int64(1), object(4)\n",
      "memory usage: 54.8+ KB\n",
      "None\n"
     ]
    }
   ],
   "source": [
    "print(transactions.info())"
   ]
  },
  {
   "cell_type": "markdown",
   "id": "b89d226e-cda6-4b3a-8701-2cf1a02fd11b",
   "metadata": {},
   "source": [
    "# Check for missing values"
   ]
  },
  {
   "cell_type": "code",
   "execution_count": 33,
   "id": "6759769e-6ee3-4c8f-b060-6508a966bc79",
   "metadata": {},
   "outputs": [
    {
     "name": "stdout",
     "output_type": "stream",
     "text": [
      "CustomerID      0\n",
      "CustomerName    0\n",
      "Region          0\n",
      "SignupDate      0\n",
      "dtype: int64\n"
     ]
    }
   ],
   "source": [
    "print(customers.isnull().sum())"
   ]
  },
  {
   "cell_type": "code",
   "execution_count": 34,
   "id": "45a427c2-0a7e-47c6-99d3-e45ff600a645",
   "metadata": {},
   "outputs": [
    {
     "name": "stdout",
     "output_type": "stream",
     "text": [
      "ProductID      0\n",
      "ProductName    0\n",
      "Category       0\n",
      "Price          0\n",
      "dtype: int64\n"
     ]
    }
   ],
   "source": [
    "print(products.isnull().sum())"
   ]
  },
  {
   "cell_type": "code",
   "execution_count": 35,
   "id": "bc793dde-21f5-47cb-9ebe-c6e6127abee6",
   "metadata": {},
   "outputs": [
    {
     "name": "stdout",
     "output_type": "stream",
     "text": [
      "TransactionID      0\n",
      "CustomerID         0\n",
      "ProductID          0\n",
      "TransactionDate    0\n",
      "Quantity           0\n",
      "TotalValue         0\n",
      "Price              0\n",
      "dtype: int64\n"
     ]
    }
   ],
   "source": [
    "print(transactions.isnull().sum())"
   ]
  },
  {
   "cell_type": "markdown",
   "id": "5cd2086c-3f01-4f76-a314-79237c754a10",
   "metadata": {},
   "source": [
    "# Check for duplicate rows"
   ]
  },
  {
   "cell_type": "code",
   "execution_count": 36,
   "id": "c2b43524-e727-428b-905b-4485771a208c",
   "metadata": {},
   "outputs": [
    {
     "name": "stdout",
     "output_type": "stream",
     "text": [
      "0\n",
      "0\n",
      "0\n"
     ]
    }
   ],
   "source": [
    "print(customers.duplicated().sum())\n",
    "print(products.duplicated().sum())\n",
    "print(transactions.duplicated().sum())"
   ]
  },
  {
   "cell_type": "markdown",
   "id": "c5bc7b95-35bc-469e-ac4c-f108b1c2dc90",
   "metadata": {},
   "source": [
    "# Convert date columns to datetime format"
   ]
  },
  {
   "cell_type": "code",
   "execution_count": 37,
   "id": "cd04d93e-daac-46db-8627-713d9dd2295d",
   "metadata": {},
   "outputs": [],
   "source": [
    "customers['SignupDate'] = pd.to_datetime(customers['SignupDate'])\n",
    "transactions['TransactionDate'] = pd.to_datetime(transactions['TransactionDate'])"
   ]
  },
  {
   "cell_type": "markdown",
   "id": "b9363679-c835-462c-b851-e61d4b839674",
   "metadata": {},
   "source": [
    "# Remove duplicates if any"
   ]
  },
  {
   "cell_type": "code",
   "execution_count": 38,
   "id": "849a6d88-b5fa-4916-8d6e-821967ec0f26",
   "metadata": {},
   "outputs": [],
   "source": [
    "customers = customers.drop_duplicates()\n",
    "products = products.drop_duplicates()\n",
    "transactions = transactions.drop_duplicates()"
   ]
  },
  {
   "cell_type": "markdown",
   "id": "47dc870e-a166-4b5f-a6e4-baf0db0f13aa",
   "metadata": {},
   "source": [
    "# Handle missing values (if any)"
   ]
  },
  {
   "cell_type": "code",
   "execution_count": 39,
   "id": "dc4a7122-c26b-4fd0-84a4-e716107ba340",
   "metadata": {},
   "outputs": [],
   "source": [
    "customers = customers.fillna('Unknown')\n",
    "products = products.fillna({'Price': products['Price'].mean()})\n",
    "transactions = transactions.fillna(0)"
   ]
  },
  {
   "cell_type": "markdown",
   "id": "f9a5dea0-1be0-4035-8b53-bdcea4b41d77",
   "metadata": {},
   "source": [
    "# Merge datasets for unified analysis"
   ]
  },
  {
   "cell_type": "code",
   "execution_count": 40,
   "id": "71667b2c-4ccf-4543-8fb7-e1cfb259e014",
   "metadata": {},
   "outputs": [],
   "source": [
    "transactions = transactions.merge(customers, on='CustomerID', how='left')\n",
    "transactions = transactions.merge(products, on='ProductID', how='left')"
   ]
  },
  {
   "cell_type": "markdown",
   "id": "693acd76-dd8a-40e7-9478-4f47d8b59c4d",
   "metadata": {},
   "source": [
    "# Inspect merged dataset"
   ]
  },
  {
   "cell_type": "code",
   "execution_count": 41,
   "id": "171abfeb-20a0-4413-8874-62e7c2145482",
   "metadata": {},
   "outputs": [
    {
     "name": "stdout",
     "output_type": "stream",
     "text": [
      "  TransactionID CustomerID ProductID     TransactionDate  Quantity  \\\n",
      "0        T00001      C0199      P067 2024-08-25 12:38:00         1   \n",
      "1        T00112      C0146      P067 2024-05-27 22:23:00         1   \n",
      "2        T00166      C0127      P067 2024-04-25 07:38:00         1   \n",
      "3        T00272      C0087      P067 2024-03-26 22:55:00         2   \n",
      "4        T00363      C0070      P067 2024-03-21 15:10:00         3   \n",
      "\n",
      "   TotalValue  Price_x     CustomerName         Region SignupDate  \\\n",
      "0      300.68   300.68   Andrea Jenkins         Europe 2022-12-03   \n",
      "1      300.68   300.68  Brittany Harvey           Asia 2024-09-04   \n",
      "2      300.68   300.68  Kathryn Stevens         Europe 2024-04-04   \n",
      "3      601.36   300.68  Travis Campbell  South America 2024-04-11   \n",
      "4      902.04   300.68    Timothy Perez         Europe 2022-03-15   \n",
      "\n",
      "                       ProductName     Category  Price_y  \n",
      "0  ComfortLiving Bluetooth Speaker  Electronics   300.68  \n",
      "1  ComfortLiving Bluetooth Speaker  Electronics   300.68  \n",
      "2  ComfortLiving Bluetooth Speaker  Electronics   300.68  \n",
      "3  ComfortLiving Bluetooth Speaker  Electronics   300.68  \n",
      "4  ComfortLiving Bluetooth Speaker  Electronics   300.68  \n"
     ]
    }
   ],
   "source": [
    "print(transactions.head())"
   ]
  },
  {
   "cell_type": "markdown",
   "id": "79a2d919-f1a5-45f1-ad9f-21f8415fa6b2",
   "metadata": {},
   "source": [
    "# Basic statistics"
   ]
  },
  {
   "cell_type": "code",
   "execution_count": 42,
   "id": "fa92c82f-d41c-4810-a792-a87fac03f575",
   "metadata": {},
   "outputs": [
    {
     "name": "stdout",
     "output_type": "stream",
     "text": [
      "                  TransactionDate     Quantity   TotalValue     Price_x  \\\n",
      "count                        1000  1000.000000  1000.000000  1000.00000   \n",
      "mean   2024-06-23 15:32:32.580000     2.537000   689.995560   272.55407   \n",
      "min           2023-12-30 15:29:00     1.000000    16.080000    16.08000   \n",
      "25%           2024-03-25 22:05:00     2.000000   295.295000   147.95000   \n",
      "50%           2024-06-26 17:21:30     3.000000   588.880000   299.93000   \n",
      "75%           2024-09-19 14:19:30     4.000000  1011.660000   404.40000   \n",
      "max           2024-12-28 11:00:00     4.000000  1991.040000   497.76000   \n",
      "std                           NaN     1.117981   493.144478   140.73639   \n",
      "\n",
      "                          SignupDate     Price_y  \n",
      "count                           1000  1000.00000  \n",
      "mean   2023-07-09 02:49:55.199999744   272.55407  \n",
      "min              2022-01-22 00:00:00    16.08000  \n",
      "25%              2022-09-17 12:00:00   147.95000  \n",
      "50%              2023-07-23 00:00:00   299.93000  \n",
      "75%              2024-04-12 00:00:00   404.40000  \n",
      "max              2024-12-28 00:00:00   497.76000  \n",
      "std                              NaN   140.73639  \n"
     ]
    }
   ],
   "source": [
    "print(transactions.describe())"
   ]
  },
  {
   "cell_type": "code",
   "execution_count": 43,
   "id": "eb8bc6b5-eb12-442a-b2de-21f0f991202f",
   "metadata": {},
   "outputs": [
    {
     "name": "stdout",
     "output_type": "stream",
     "text": [
      "Region\n",
      "South America    304\n",
      "North America    244\n",
      "Europe           234\n",
      "Asia             218\n",
      "Name: count, dtype: int64\n"
     ]
    }
   ],
   "source": [
    "print(transactions['Region'].value_counts())"
   ]
  },
  {
   "cell_type": "code",
   "execution_count": 44,
   "id": "c0f13777-39d2-4019-85d7-b2451f1d14fe",
   "metadata": {},
   "outputs": [
    {
     "name": "stdout",
     "output_type": "stream",
     "text": [
      "Category\n",
      "Books          270\n",
      "Electronics    254\n",
      "Home Decor     248\n",
      "Clothing       228\n",
      "Name: count, dtype: int64\n"
     ]
    }
   ],
   "source": [
    "print(transactions['Category'].value_counts())"
   ]
  },
  {
   "cell_type": "code",
   "execution_count": null,
   "id": "9176abd7-75c4-493d-a2fa-ad0bd23458dc",
   "metadata": {},
   "outputs": [],
   "source": []
  },
  {
   "cell_type": "code",
   "execution_count": null,
   "id": "f39f2d5e-85de-4503-98bf-16797169fd3e",
   "metadata": {},
   "outputs": [],
   "source": []
  },
  {
   "cell_type": "markdown",
   "id": "8f549046-5cef-499a-88d2-01fcda51b31b",
   "metadata": {},
   "source": [
    "# Convert MonthYear to string"
   ]
  },
  {
   "cell_type": "code",
   "execution_count": 45,
   "id": "8c96e4ec-c7b6-462b-a0d3-268585fb37fb",
   "metadata": {},
   "outputs": [],
   "source": [
    "# Extract Month-Year from TransactionDate\n",
    "transactions['MonthYear'] = transactions['TransactionDate'].dt.to_period('M').astype(str)\n",
    "\n",
    "# Group by MonthYear and calculate Total Revenue\n",
    "revenue_trend = transactions.groupby('MonthYear', as_index=False)['TotalValue'].sum()"
   ]
  },
  {
   "cell_type": "markdown",
   "id": "d60b0f40-ed88-4ac9-947c-9799cc65f037",
   "metadata": {},
   "source": [
    "# Plot the Visualizations"
   ]
  },
  {
   "cell_type": "code",
   "execution_count": 46,
   "id": "9074610e-3ab0-44a8-99d5-ded941b03129",
   "metadata": {},
   "outputs": [
    {
     "data": {
      "image/png": "[encoded data removed]",
      "text/plain": [
       "<Figure size 1000x600 with 1 Axes>"
      ]
     },
     "metadata": {},
     "output_type": "display_data"
    }
   ],
   "source": [
    "plt.figure(figsize=(10, 6))\n",
    "sns.lineplot(data=revenue_trend, x='MonthYear', y='TotalValue')\n",
    "plt.title('Revenue Trend Over Time')\n",
    "plt.xticks(rotation=45)\n",
    "plt.ylabel('Total Revenue')\n",
    "plt.xlabel('Month-Year')\n",
    "plt.show()\n"
   ]
  },
  {
   "cell_type": "markdown",
   "id": "324e97ea-cb0d-4e36-baf0-aa10d9afe829",
   "metadata": {},
   "source": [
    "# Group data for region revenue & Sales"
   ]
  },
  {
   "cell_type": "code",
   "execution_count": 47,
   "id": "dc486d76-36bd-46f9-abef-b57dc954b77f",
   "metadata": {},
   "outputs": [],
   "source": [
    "region_revenue = transactions.groupby('Region')['TotalValue'].sum().reset_index()\n",
    "category_sales = transactions.groupby('Category')['Quantity'].sum().reset_index()"
   ]
  },
  {
   "cell_type": "code",
   "execution_count": 48,
   "id": "1ad25514-296b-4bea-821e-098f2b7de859",
   "metadata": {},
   "outputs": [],
   "source": [
    "region_revenue['Region'] = region_revenue['Region'].astype(str)\n",
    "category_sales['Category'] = category_sales['Category'].astype(str)"
   ]
  },
  {
   "cell_type": "markdown",
   "id": "f79875dc-e1e3-4f88-bbfa-8e31469485bf",
   "metadata": {},
   "source": [
    "# Plot the Visualizations"
   ]
  },
  {
   "cell_type": "code",
   "execution_count": 49,
   "id": "8c72df5c-d436-4680-a3e7-13e4fe31c719",
   "metadata": {},
   "outputs": [
    {
     "data": {
      "image/png": "[encoded data removed]",
      "text/plain": [
       "<Figure size 800x600 with 1 Axes>"
      ]
     },
     "metadata": {},
     "output_type": "display_data"
    }
   ],
   "source": [
    "plt.figure(figsize=(8, 6))\n",
    "sns.barplot(data=region_revenue, x='Region', y='TotalValue')\n",
    "plt.title('Region-Wise Revenue')\n",
    "plt.ylabel('Revenue')\n",
    "plt.xlabel('Region')\n",
    "plt.show()\n"
   ]
  },
  {
   "cell_type": "code",
   "execution_count": 50,
   "id": "8bda0319-84bc-48a5-b872-644ea12ac9f4",
   "metadata": {},
   "outputs": [
    {
     "data": {
      "image/png": "[encoded data removed]",
      "text/plain": [
       "<Figure size 800x600 with 1 Axes>"
      ]
     },
     "metadata": {},
     "output_type": "display_data"
    }
   ],
   "source": [
    "plt.figure(figsize=(8, 6))\n",
    "sns.barplot(data=category_sales, x='Category', y='Quantity')\n",
    "plt.title('Sales by Product Category')\n",
    "plt.ylabel('Quantity Sold')\n",
    "plt.xlabel('Category')\n",
    "plt.show()\n"
   ]
  },
  {
   "cell_type": "code",
   "execution_count": 51,
   "id": "38bc9444-b350-4211-a0a5-823673fa7daa",
   "metadata": {},
   "outputs": [
    {
     "name": "stdout",
     "output_type": "stream",
     "text": [
      "  TransactionID CustomerID ProductID     TransactionDate  Quantity  \\\n",
      "0        T00001      C0199      P067 2024-08-25 12:38:00         1   \n",
      "1        T00112      C0146      P067 2024-05-27 22:23:00         1   \n",
      "2        T00166      C0127      P067 2024-04-25 07:38:00         1   \n",
      "3        T00272      C0087      P067 2024-03-26 22:55:00         2   \n",
      "4        T00363      C0070      P067 2024-03-21 15:10:00         3   \n",
      "\n",
      "   TotalValue  Price_x     CustomerName         Region SignupDate  \\\n",
      "0      300.68   300.68   Andrea Jenkins         Europe 2022-12-03   \n",
      "1      300.68   300.68  Brittany Harvey           Asia 2024-09-04   \n",
      "2      300.68   300.68  Kathryn Stevens         Europe 2024-04-04   \n",
      "3      601.36   300.68  Travis Campbell  South America 2024-04-11   \n",
      "4      902.04   300.68    Timothy Perez         Europe 2022-03-15   \n",
      "\n",
      "                       ProductName     Category  Price_y MonthYear  \n",
      "0  ComfortLiving Bluetooth Speaker  Electronics   300.68   2024-08  \n",
      "1  ComfortLiving Bluetooth Speaker  Electronics   300.68   2024-05  \n",
      "2  ComfortLiving Bluetooth Speaker  Electronics   300.68   2024-04  \n",
      "3  ComfortLiving Bluetooth Speaker  Electronics   300.68   2024-03  \n",
      "4  ComfortLiving Bluetooth Speaker  Electronics   300.68   2024-03  \n",
      "Index(['TransactionID', 'CustomerID', 'ProductID', 'TransactionDate',\n",
      "       'Quantity', 'TotalValue', 'Price_x', 'CustomerName', 'Region',\n",
      "       'SignupDate', 'ProductName', 'Category', 'Price_y', 'MonthYear'],\n",
      "      dtype='object')\n"
     ]
    }
   ],
   "source": [
    "print(transactions.head())\n",
    "print(transactions.columns)"
   ]
  },
  {
   "cell_type": "markdown",
   "id": "f61e7f2e-32c9-49fe-bd05-89f0546cf51f",
   "metadata": {},
   "source": [
    "# Identify high-value customers"
   ]
  },
  {
   "cell_type": "code",
   "execution_count": 53,
   "id": "10b9aa52-ec2d-402c-941b-a946dbf2ba70",
   "metadata": {},
   "outputs": [],
   "source": [
    "customer_revenue = transactions.groupby('CustomerID')['TotalValue'].sum().reset_index()\n",
    "high_value_customers = customer_revenue[customer_revenue['TotalValue'] > customer_revenue['TotalValue'].quantile(0.90)]"
   ]
  },
  {
   "cell_type": "markdown",
   "id": "636102e7-7278-4f31-8c41-9dff055bfba6",
   "metadata": {},
   "source": [
    "# Display high-value customers"
   ]
  },
  {
   "cell_type": "code",
   "execution_count": 54,
   "id": "d0163ec8-634b-4f3c-a819-521604b71eda",
   "metadata": {},
   "outputs": [
    {
     "name": "stdout",
     "output_type": "stream",
     "text": [
      "    CustomerID  TotalValue\n",
      "12       C0013     6000.56\n",
      "27       C0028     6819.57\n",
      "40       C0041     6149.78\n",
      "44       C0045     6021.80\n",
      "53       C0054     8040.39\n",
      "58       C0059     7073.28\n",
      "64       C0065     7663.70\n",
      "67       C0068     5950.42\n",
      "81       C0082     7572.91\n",
      "86       C0087     6604.23\n",
      "95       C0096     6072.92\n",
      "98       C0099     6715.72\n",
      "101      C0102     6132.36\n",
      "103      C0104     6579.10\n",
      "140      C0141    10673.87\n",
      "142      C0143     6044.63\n",
      "155      C0156     7634.45\n",
      "164      C0165     6708.10\n",
      "174      C0175     6210.53\n",
      "186      C0188     7111.32\n"
     ]
    }
   ],
   "source": [
    "print(high_value_customers)"
   ]
  }
 ],
 "metadata": {
  "kernelspec": {
   "display_name": "Python 3 (ipykernel)",
   "language": "python",
   "name": "python3"
  },
  "language_info": {
   "codemirror_mode": {
    "name": "ipython",
    "version": 3
   },
   "file_extension": ".py",
   "mimetype": "text/x-python",
   "name": "python",
   "nbconvert_exporter": "python",
   "pygments_lexer": "ipython3",
   "version": "3.11.7"
  }
 },
 "nbformat": 4,
 "nbformat_minor": 5
}
