{
 "cells": [
  {
   "cell_type": "markdown",
   "id": "4ed45bd1-6618-4436-a18f-40b640eb326f",
   "metadata": {},
   "source": [
    " # Build the Lookalike Model"
   ]
  },
  {
   "cell_type": "code",
   "execution_count": 42,
   "id": "ce2c124b-b51f-42d5-ae16-8d6ace37c612",
   "metadata": {},
   "outputs": [],
   "source": [
    "import pandas as pd\n",
    "from sklearn.metrics.pairwise import cosine_similarity\n",
    "from sklearn.preprocessing import StandardScaler\n",
    "import numpy as np"
   ]
  },
  {
   "cell_type": "markdown",
   "id": "1ee7698c-cf62-400f-89d0-1fbf9e0e14fa",
   "metadata": {},
   "source": [
    "# Load the data"
   ]
  },
  {
   "cell_type": "code",
   "execution_count": 43,
   "id": "c67918bd-a25f-4a07-9248-213bb03027b0",
   "metadata": {},
   "outputs": [],
   "source": [
    "customers = pd.read_csv('Customers.csv')\n",
    "products = pd.read_csv('Products.csv')\n",
    "transactions = pd.read_csv('Transactions.csv')"
   ]
  },
  {
   "cell_type": "markdown",
   "id": "b17284e9-eb71-4079-a837-dfccf539eb95",
   "metadata": {},
   "source": [
    "# Merging the customers and transactions data based on CustomerID"
   ]
  },
  {
   "cell_type": "code",
   "execution_count": 44,
   "id": "415e8b95-bfb1-4198-b12f-1b8a13341276",
   "metadata": {},
   "outputs": [],
   "source": [
    "transactions = transactions.merge(customers, on='CustomerID', how='left')\n",
    "transactions = transactions.merge(products, on='ProductID', how='left')"
   ]
  },
  {
   "cell_type": "markdown",
   "id": "781ce7b7-0c84-4ee5-86dd-050133de4817",
   "metadata": {},
   "source": [
    "# Aggregating transactions data for each customer (total spend, unique product count, etc.)"
   ]
  },
  {
   "cell_type": "code",
   "execution_count": 45,
   "id": "6679cb2d-077a-4bf1-b50a-82aad7f4699a",
   "metadata": {},
   "outputs": [],
   "source": [
    "agg_data = merged_data.groupby('CustomerID').agg({\n",
    "    'Price': 'sum',  # Total spend\n",
    "    'Quantity': 'sum',  # Total quantity purchased\n",
    "    'ProductID': 'nunique'  # Unique products purchased\n",
    "}).reset_index()"
   ]
  },
  {
   "cell_type": "markdown",
   "id": "c7f2c828-36be-4c88-abf0-1f2847407282",
   "metadata": {},
   "source": [
    "# Merging the aggregated data with customer demographics"
   ]
  },
  {
   "cell_type": "code",
   "execution_count": 46,
   "id": "c5da3099-57db-4437-8c40-14d3265df41c",
   "metadata": {},
   "outputs": [],
   "source": [
    "customer_features = pd.merge(customers[['CustomerID', 'Region']], agg_data, on='CustomerID')"
   ]
  },
  {
   "cell_type": "markdown",
   "id": "281910f0-3dc3-41fd-9217-f78395a07c8e",
   "metadata": {},
   "source": [
    "# Encoding categorical variables (Region)"
   ]
  },
  {
   "cell_type": "code",
   "execution_count": 47,
   "id": "e65739de-0f25-4269-988d-c69bcc7bad63",
   "metadata": {},
   "outputs": [],
   "source": [
    "customer_features = pd.get_dummies(customer_features, columns=['Region'], drop_first=True)"
   ]
  },
  {
   "cell_type": "markdown",
   "id": "95332dd1-704d-40be-9f6b-3b6d0ca25fcb",
   "metadata": {},
   "source": [
    "# Standardizing the data (important for distance-based metrics)"
   ]
  },
  {
   "cell_type": "code",
   "execution_count": 48,
   "id": "0fc4ef77-e96e-417b-820f-0aae34352766",
   "metadata": {},
   "outputs": [],
   "source": [
    "scaler = StandardScaler()\n",
    "scaled_features = scaler.fit_transform(customer_features.drop(columns=['CustomerID']))"
   ]
  },
  {
   "cell_type": "markdown",
   "id": "cdba0526-7353-4862-8f37-835b370dffa1",
   "metadata": {},
   "source": [
    "# Calculate cosine similarity matrix"
   ]
  },
  {
   "cell_type": "code",
   "execution_count": 49,
   "id": "c480623a-712e-4caa-a88b-c4f99983f860",
   "metadata": {},
   "outputs": [],
   "source": [
    "similarity_matrix = cosine_similarity(scaled_features)"
   ]
  },
  {
   "cell_type": "markdown",
   "id": "dae6c04a-8a25-46fc-aaf6-96599414e787",
   "metadata": {},
   "source": [
    "# Function to get the top 3 lookalike customers for each customer"
   ]
  },
  {
   "cell_type": "code",
   "execution_count": 50,
   "id": "a600d8ca-dee4-4bbc-ae2c-1ef7ea23f790",
   "metadata": {},
   "outputs": [],
   "source": [
    "def get_top_lookalikes(similarity_matrix, customer_ids, top_n=3):\n",
    "    lookalikes = {}\n",
    "    for idx, customer_id in enumerate(customer_ids):\n",
    "        # Get the similarity scores for the customer\n",
    "        similarity_scores = similarity_matrix[idx]\n",
    "        \n",
    "        # Create a list of tuples (CustomerID, SimilarityScore), excluding the self-similarity\n",
    "        similar_customers = [(customer_ids[i], similarity_scores[i]) for i in range(len(customer_ids)) if i != idx]\n",
    "        \n",
    "        # Sort by similarity score in descending order and pick the top n\n",
    "        similar_customers.sort(key=lambda x: x[1], reverse=True)\n",
    "        top_lookalikes[customer_id] = similar_customers[:top_n]\n",
    "    \n",
    "    return top_lookalikes"
   ]
  },
  {
   "cell_type": "markdown",
   "id": "058330c8-9c23-40e6-83e1-8e9dfccdf905",
   "metadata": {},
   "source": [
    "# Get customer IDs for the first 20 customers"
   ]
  },
  {
   "cell_type": "code",
   "execution_count": 51,
   "id": "e2070026-0156-42b6-a6bf-479fbe735aaa",
   "metadata": {},
   "outputs": [],
   "source": [
    "top_n = 3\n",
    "customer_ids = customer_features['CustomerID'].iloc[:20]"
   ]
  },
  {
   "cell_type": "markdown",
   "id": "2d651d11-ed52-4fb9-b6d7-6222a27be537",
   "metadata": {},
   "source": [
    "# Get the top lookalikes for each of the first 20 customers"
   ]
  },
  {
   "cell_type": "code",
   "execution_count": 52,
   "id": "d199c2b4-e4c6-4a7b-b06b-1de113299caa",
   "metadata": {},
   "outputs": [],
   "source": [
    "def get_top_lookalikes(similarity_matrix, customer_ids, top_n=3):\n",
    "    lookalikes = {}  # Initialize the dictionary to store results\n",
    "    for idx, customer_id in enumerate(customer_ids):\n",
    "        # Get the similarity scores for the customer\n",
    "        similarity_scores = similarity_matrix[idx]\n",
    "        \n",
    "        # Create a list of tuples (CustomerID, SimilarityScore), excluding the self-similarity\n",
    "        similar_customers = [(customer_ids[i], similarity_scores[i]) for i in range(len(customer_ids)) if i != idx]\n",
    "        \n",
    "        # Sort by similarity score in descending order and pick the top n\n",
    "        similar_customers.sort(key=lambda x: x[1], reverse=True)\n",
    "        \n",
    "        # Store the top n lookalikes for the customer\n",
    "        lookalikes[customer_id] = similar_customers[:top_n]\n",
    "    \n",
    "    return lookalikes\n"
   ]
  },
  {
   "cell_type": "code",
   "execution_count": 53,
   "id": "0648cc10-510c-4efb-8bd3-11cea0091252",
   "metadata": {},
   "outputs": [],
   "source": [
    "top_lookalikes = get_top_lookalikes(similarity_matrix, customer_ids, top_n)"
   ]
  },
  {
   "cell_type": "markdown",
   "id": "486cfed3-58b8-412a-a46d-176c98f493ef",
   "metadata": {},
   "source": [
    "# Create the Lookalike.csv with the results"
   ]
  },
  {
   "cell_type": "code",
   "execution_count": 54,
   "id": "761797cb-3a06-480a-b0a0-ee7749b0502a",
   "metadata": {},
   "outputs": [
    {
     "name": "stdout",
     "output_type": "stream",
     "text": [
      "Soumyadeep_Das_Lookalike.csv created with top 3 lookalikes for the first 20 customers.\n"
     ]
    }
   ],
   "source": [
    "lookalike_data = []\n",
    "for cust_id, lookalikes_list in top_lookalikes.items():\n",
    "    for lookalike, score in lookalikes_list:\n",
    "        lookalike_data.append([cust_id, lookalike, score])\n",
    "\n",
    "lookalike_df = pd.DataFrame(lookalike_data, columns=['cust_id', 'lookalike_cust_id', 'similarity_score'])\n",
    "lookalike_df.to_csv('Soumyadeep_Das_Lookalike.csv', index=False)\n",
    "\n",
    "print(\"Soumyadeep_Das_Lookalike.csv created with top 3 lookalikes for the first 20 customers.\")"
   ]
  },
  {
   "cell_type": "code",
   "execution_count": 55,
   "id": "8fb5b623-8d35-4a6e-bd20-0b48ada9db2a",
   "metadata": {},
   "outputs": [
    {
     "name": "stdout",
     "output_type": "stream",
     "text": [
      "       similarity_score\n",
      "count         60.000000\n",
      "mean           0.779467\n",
      "std            0.171447\n",
      "min            0.389820\n",
      "25%            0.637248\n",
      "50%            0.813024\n",
      "75%            0.937302\n",
      "max            0.993693\n"
     ]
    }
   ],
   "source": [
    "lookalike = pd.read_csv('Soumyadeep_Das_Lookalike.csv')\n",
    "print(lookalike.describe())"
   ]
  }
 ],
 "metadata": {
  "kernelspec": {
   "display_name": "Python 3 (ipykernel)",
   "language": "python",
   "name": "python3"
  },
  "language_info": {
   "codemirror_mode": {
    "name": "ipython",
    "version": 3
   },
   "file_extension": ".py",
   "mimetype": "text/x-python",
   "name": "python",
   "nbconvert_exporter": "python",
   "pygments_lexer": "ipython3",
   "version": "3.11.7"
  }
 },
 "nbformat": 4,
 "nbformat_minor": 5
}
